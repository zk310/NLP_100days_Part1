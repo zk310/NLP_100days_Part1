{
 "cells": [
  {
   "cell_type": "code",
   "execution_count": 4,
   "metadata": {},
   "outputs": [
    {
     "name": "stdout",
     "output_type": "stream",
     "text": [
      "showing info https://raw.githubusercontent.com/nltk/nltk_data/gh-pages/index.xml\n"
     ]
    },
    {
     "data": {
      "text/plain": [
       "True"
      ]
     },
     "execution_count": 4,
     "metadata": {},
     "output_type": "execute_result"
    }
   ],
   "source": [
    "from nltk.stem import WordNetLemmatizer \n",
    "from nltk.stem.porter import PorterStemmer\n",
    "import nltk\n",
    "#nltk.download('wordnet')\n",
    "## 創建stemmer\n",
    "ps=PorterStemmer()\n",
    "\n",
    "## 創建Lemmatizer\n",
    "lemmatizer = WordNetLemmatizer() \n",
    "\n",
    "#nltk.download()"
   ]
  },
  {
   "cell_type": "markdown",
   "metadata": {},
   "source": [
    "### example"
   ]
  },
  {
   "cell_type": "code",
   "execution_count": 7,
   "metadata": {},
   "outputs": [
    {
     "name": "stdout",
     "output_type": "stream",
     "text": [
      "Stemming amusing : amus\n",
      "lemmatization amusing : amuse\n"
     ]
    }
   ],
   "source": [
    "print('Stemming amusing : {}'.format(ps.stem('amusing')))\n",
    "print('lemmatization amusing : {}'.format(lemmatizer.lemmatize('amusing',pos = 'v')))"
   ]
  },
  {
   "cell_type": "markdown",
   "metadata": {},
   "source": [
    "### 運用tokenize技巧結合stemming提取每個單詞的詞幹"
   ]
  },
  {
   "cell_type": "code",
   "execution_count": 11,
   "metadata": {},
   "outputs": [
    {
     "name": "stdout",
     "output_type": "stream",
     "text": [
      "['The', 'striped', 'bats', 'are', 'hanging', 'on', 'their', 'feet', 'for', 'best']\n",
      "the stripe bat are hang on their feet for best\n"
     ]
    }
   ],
   "source": [
    "# Define the sentence to be lemmatized\n",
    "sentence = \"The striped bats are hanging on their feet for best\"\n",
    "\n",
    "# Tokenize: Split the sentence into words\n",
    "word_list = nltk.word_tokenize(sentence)\n",
    "print(word_list)\n",
    "#> ['The', 'striped', 'bats', 'are', 'hanging', 'on', 'their', 'feet', 'for', 'best']\n",
    "\n",
    "stemming_output = ' '.join([ps.stem(w) for w in word_list])\n",
    "print(stemming_output)\n",
    "#> The striped bat are hanging on their foot for best"
   ]
  },
  {
   "cell_type": "markdown",
   "metadata": {},
   "source": [
    "### 運用tokenize技巧結合lemmatize提取每個單詞的lemma"
   ]
  },
  {
   "cell_type": "code",
   "execution_count": 12,
   "metadata": {},
   "outputs": [
    {
     "name": "stdout",
     "output_type": "stream",
     "text": [
      "['The', 'striped', 'bats', 'are', 'hanging', 'on', 'their', 'feet', 'for', 'best']\n",
      "The strip bat be hang on their feet for best\n"
     ]
    }
   ],
   "source": [
    "# Define the sentence to be lemmatized\n",
    "sentence = \"The striped bats are hanging on their feet for best\"\n",
    "\n",
    "# Tokenize: Split the sentence into words\n",
    "word_list = nltk.word_tokenize(sentence)\n",
    "print(word_list)\n",
    "#> ['The', 'striped', 'bats', 'are', 'hanging', 'on', 'their', 'feet', 'for', 'best']\n",
    "\n",
    "# Lemmatize list of words and join\n",
    "lemmatized_output = ' '.join([lemmatizer.lemmatize(w,pos = 'v') for w in word_list])\n",
    "print(lemmatized_output)\n",
    "#> The striped bat are hanging on their foot for best"
   ]
  },
  {
   "cell_type": "markdown",
   "metadata": {},
   "source": [
    "### 有時單詞的lemma會隨著詞性而有所改變"
   ]
  },
  {
   "cell_type": "code",
   "execution_count": 13,
   "metadata": {},
   "outputs": [
    {
     "name": "stdout",
     "output_type": "stream",
     "text": [
      "lemmatization amusing : amuse\n",
      "lemmatization amusing : amusing\n"
     ]
    }
   ],
   "source": [
    "print('lemmatization amusing : {}'.format(lemmatizer.lemmatize('amusing',pos = 'v'))) ##動詞\n",
    "print('lemmatization amusing : {}'.format(lemmatizer.lemmatize('amusing',pos = 'a'))) ##形容詞"
   ]
  },
  {
   "cell_type": "markdown",
   "metadata": {},
   "source": [
    "### 運用pos_tag技巧結合lemmatize提取每個單詞的lemma"
   ]
  },
  {
   "cell_type": "code",
   "execution_count": 35,
   "metadata": {},
   "outputs": [],
   "source": [
    "# Lemmatize with POS Tag\n",
    "from nltk.corpus import wordnet\n",
    "\n",
    "def get_wordnet_pos(word):\n",
    "    \"\"\"將pos_tag結果mapping到lemmatizer中pos的格式\"\"\"\n",
    "    tag = nltk.pos_tag([word])[0][1][0].upper()\n",
    "    tag_dict = {\"J\": wordnet.ADJ,\n",
    "                \"N\": wordnet.NOUN,\n",
    "                \"V\": wordnet.VERB,\n",
    "                \"R\": wordnet.ADV}\n",
    "    \n",
    "    print(nltk.pos_tag([word]))\n",
    "    print(nltk.pos_tag([word])[0])\n",
    "    print(nltk.pos_tag([word])[0][1])\n",
    "    print(nltk.pos_tag([word])[0][1][0])\n",
    "    \n",
    "    #print(tag)\n",
    "    print(tag_dict)\n",
    "\n",
    "    return tag_dict.get(tag, wordnet.NOUN)\n"
   ]
  },
  {
   "cell_type": "code",
   "execution_count": 36,
   "metadata": {},
   "outputs": [
    {
     "name": "stdout",
     "output_type": "stream",
     "text": [
      "[('using', 'VBG')]\n",
      "('using', 'VBG')\n",
      "VBG\n",
      "V\n",
      "{'J': 'a', 'N': 'n', 'V': 'v', 'R': 'r'}\n",
      "use\n"
     ]
    }
   ],
   "source": [
    "word = 'using'\n",
    "print(lemmatizer.lemmatize(word, get_wordnet_pos(word)))"
   ]
  },
  {
   "cell_type": "markdown",
   "metadata": {},
   "source": [
    "### Lemmatize 字串中每個單詞並加入 POS tag"
   ]
  },
  {
   "cell_type": "code",
   "execution_count": 37,
   "metadata": {},
   "outputs": [
    {
     "name": "stdout",
     "output_type": "stream",
     "text": [
      "[('The', 'DT')]\n",
      "('The', 'DT')\n",
      "DT\n",
      "D\n",
      "{'J': 'a', 'N': 'n', 'V': 'v', 'R': 'r'}\n",
      "[('striped', 'VBD')]\n",
      "('striped', 'VBD')\n",
      "VBD\n",
      "V\n",
      "{'J': 'a', 'N': 'n', 'V': 'v', 'R': 'r'}\n",
      "[('bats', 'NNS')]\n",
      "('bats', 'NNS')\n",
      "NNS\n",
      "N\n",
      "{'J': 'a', 'N': 'n', 'V': 'v', 'R': 'r'}\n",
      "[('are', 'VBP')]\n",
      "('are', 'VBP')\n",
      "VBP\n",
      "V\n",
      "{'J': 'a', 'N': 'n', 'V': 'v', 'R': 'r'}\n",
      "[('hanging', 'VBG')]\n",
      "('hanging', 'VBG')\n",
      "VBG\n",
      "V\n",
      "{'J': 'a', 'N': 'n', 'V': 'v', 'R': 'r'}\n",
      "[('on', 'IN')]\n",
      "('on', 'IN')\n",
      "IN\n",
      "I\n",
      "{'J': 'a', 'N': 'n', 'V': 'v', 'R': 'r'}\n",
      "[('their', 'PRP$')]\n",
      "('their', 'PRP$')\n",
      "PRP$\n",
      "P\n",
      "{'J': 'a', 'N': 'n', 'V': 'v', 'R': 'r'}\n",
      "[('feet', 'NNS')]\n",
      "('feet', 'NNS')\n",
      "NNS\n",
      "N\n",
      "{'J': 'a', 'N': 'n', 'V': 'v', 'R': 'r'}\n",
      "[('for', 'IN')]\n",
      "('for', 'IN')\n",
      "IN\n",
      "I\n",
      "{'J': 'a', 'N': 'n', 'V': 'v', 'R': 'r'}\n",
      "[('best', 'JJS')]\n",
      "('best', 'JJS')\n",
      "JJS\n",
      "J\n",
      "{'J': 'a', 'N': 'n', 'V': 'v', 'R': 'r'}\n",
      "['The', 'strip', 'bat', 'be', 'hang', 'on', 'their', 'foot', 'for', 'best']\n"
     ]
    }
   ],
   "source": [
    "sentence = \"The striped bats are hanging on their feet for best\"\n",
    "#print(\"自行填入\")\n",
    "sentence_lem = []\n",
    "for w in sentence.split(' '):\n",
    "    sentence_lem.append(lemmatizer.lemmatize(w, get_wordnet_pos(w)))\n",
    "\n",
    "print(sentence_lem)\n",
    "\n",
    "#> ['The', 'strip', 'bat', 'be', 'hang', 'on', 'their', 'foot', 'for', 'best']"
   ]
  },
  {
   "cell_type": "code",
   "execution_count": null,
   "metadata": {},
   "outputs": [],
   "source": []
  }
 ],
 "metadata": {
  "kernelspec": {
   "display_name": "Python 3",
   "language": "python",
   "name": "python3"
  },
  "language_info": {
   "codemirror_mode": {
    "name": "ipython",
    "version": 3
   },
   "file_extension": ".py",
   "mimetype": "text/x-python",
   "name": "python",
   "nbconvert_exporter": "python",
   "pygments_lexer": "ipython3",
   "version": "3.8.3"
  }
 },
 "nbformat": 4,
 "nbformat_minor": 2
}
