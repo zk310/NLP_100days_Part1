{
 "cells": [
  {
   "cell_type": "markdown",
   "id": "eligible-edward",
   "metadata": {},
   "source": [
    "監督式學習 (Supervised learning)\n",
    "優點 (Advantages):\n",
    "It exists notions of the output along the learning process.\n",
    "It performs classification and regression tasks.\n",
    "It allows estimating or mapping the results to a new sample.\n",
    "缺點 (Disadvantages):\n",
    "It requires a labelled dataset.\n",
    "It requires a training process."
   ]
  },
  {
   "cell_type": "markdown",
   "id": "random-abuse",
   "metadata": {},
   "source": [
    "非監督式學習 (Unsupervised learning)\n",
    "優點 (Advantages):\n",
    "It does not require a training data to be labelled.\n",
    "The automatic labelling of the training dataset saving the time spent in hand classification.\n",
    "Classification task is fast.\n",
    "缺點 (Disadvantages):\n",
    "There are no notions of the output along the learning process.\n",
    "It does not allow to estimate or map the results of a new sample.\n",
    "Results vary considerably in the presence of outliers.\n",
    "It only performs classification task."
   ]
  }
 ],
 "metadata": {
  "kernelspec": {
   "display_name": "Python 3",
   "language": "python",
   "name": "python3"
  },
  "language_info": {
   "codemirror_mode": {
    "name": "ipython",
    "version": 3
   },
   "file_extension": ".py",
   "mimetype": "text/x-python",
   "name": "python",
   "nbconvert_exporter": "python",
   "pygments_lexer": "ipython3",
   "version": "3.8.3"
  }
 },
 "nbformat": 4,
 "nbformat_minor": 5
}
